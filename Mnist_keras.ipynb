{
  "nbformat": 4,
  "nbformat_minor": 0,
  "metadata": {
    "colab": {
      "name": "Mnist keras.ipynb",
      "provenance": [],
      "authorship_tag": "ABX9TyM4Lgf6/5/Zd4db8ZfEJ6DO",
      "include_colab_link": true
    },
    "kernelspec": {
      "name": "python3",
      "display_name": "Python 3"
    },
    "language_info": {
      "name": "python"
    },
    "accelerator": "GPU"
  },
  "cells": [
    {
      "cell_type": "markdown",
      "metadata": {
        "id": "view-in-github",
        "colab_type": "text"
      },
      "source": [
        "<a href=\"https://colab.research.google.com/github/miladlink/Beginner_Deep_Learning/blob/main/Mnist_keras.ipynb\" target=\"_parent\"><img src=\"https://colab.research.google.com/assets/colab-badge.svg\" alt=\"Open In Colab\"/></a>"
      ]
    },
    {
      "cell_type": "code",
      "metadata": {
        "colab": {
          "base_uri": "https://localhost:8080/"
        },
        "id": "Kb4ogPkheDSX",
        "outputId": "cb7ecb75-be4a-43a5-b347-5eba72f40805"
      },
      "source": [
        "import numpy as np\n",
        "import matplotlib.pyplot as plt\n",
        "import torch\n",
        "import torchvision\n",
        "from keras.datasets import mnist\n",
        "from keras.models import Sequential\n",
        "from keras.layers import Dense\n",
        "(train_image, train_labels), (test_image, test_labels) = mnist.load_data ()"
      ],
      "execution_count": null,
      "outputs": [
        {
          "output_type": "stream",
          "text": [
            "Downloading data from https://storage.googleapis.com/tensorflow/tf-keras-datasets/mnist.npz\n",
            "11493376/11490434 [==============================] - 0s 0us/step\n"
          ],
          "name": "stdout"
        }
      ]
    },
    {
      "cell_type": "code",
      "metadata": {
        "id": "IBY8P73Uk0pB"
      },
      "source": [
        "model = Sequential()\n",
        "model.add (Dense (512, activation = 'relu', input_shape = (28*28,)))\n",
        "model.add (Dense (10, activation = 'softmax'))\n",
        "model.compile (optimizer = 'rmsprop', loss = 'categorical_crossentropy', metrics = ['accuracy'])"
      ],
      "execution_count": null,
      "outputs": []
    },
    {
      "cell_type": "code",
      "metadata": {
        "id": "fkmLnHjmqrWl"
      },
      "source": [
        "train_image = train_image.reshape ((60000,28*28)).astype ('float32') / 255\n",
        "from keras.utils import to_categorical\n",
        "train_labels = to_categorical (train_labels)"
      ],
      "execution_count": null,
      "outputs": []
    },
    {
      "cell_type": "code",
      "metadata": {
        "colab": {
          "base_uri": "https://localhost:8080/"
        },
        "id": "unJTRHrOsmHl",
        "outputId": "0c6591a3-fb8b-47a8-82b7-14e2a908ad80"
      },
      "source": [
        "model.fit (train_image, train_labels, epochs = 10, batch_size = 128)"
      ],
      "execution_count": null,
      "outputs": [
        {
          "output_type": "stream",
          "text": [
            "Epoch 1/10\n",
            "469/469 [==============================] - 4s 3ms/step - loss: 0.4331 - accuracy: 0.8741\n",
            "Epoch 2/10\n",
            "469/469 [==============================] - 1s 3ms/step - loss: 0.1097 - accuracy: 0.9680\n",
            "Epoch 3/10\n",
            "469/469 [==============================] - 1s 3ms/step - loss: 0.0685 - accuracy: 0.9807\n",
            "Epoch 4/10\n",
            "469/469 [==============================] - 1s 3ms/step - loss: 0.0486 - accuracy: 0.9854\n",
            "Epoch 5/10\n",
            "469/469 [==============================] - 1s 3ms/step - loss: 0.0353 - accuracy: 0.9895\n",
            "Epoch 6/10\n",
            "469/469 [==============================] - 1s 3ms/step - loss: 0.0263 - accuracy: 0.9924\n",
            "Epoch 7/10\n",
            "469/469 [==============================] - 1s 3ms/step - loss: 0.0188 - accuracy: 0.9947\n",
            "Epoch 8/10\n",
            "469/469 [==============================] - 1s 3ms/step - loss: 0.0155 - accuracy: 0.9957\n",
            "Epoch 9/10\n",
            "469/469 [==============================] - 1s 3ms/step - loss: 0.0140 - accuracy: 0.9960\n",
            "Epoch 10/10\n",
            "469/469 [==============================] - 1s 3ms/step - loss: 0.0084 - accuracy: 0.9977\n"
          ],
          "name": "stdout"
        },
        {
          "output_type": "execute_result",
          "data": {
            "text/plain": [
              "<tensorflow.python.keras.callbacks.History at 0x7f88503513d0>"
            ]
          },
          "metadata": {
            "tags": []
          },
          "execution_count": 5
        }
      ]
    },
    {
      "cell_type": "code",
      "metadata": {
        "colab": {
          "base_uri": "https://localhost:8080/"
        },
        "id": "Fu9fAMAw56q6",
        "outputId": "ecb4003f-6cc0-4916-9cb7-a1a39423512f"
      },
      "source": [
        "test_image = test_image.reshape ((10000,28*28)).astype ('float32') / 255\n",
        "test_labels = to_categorical (test_labels)\n",
        "test_loss, test_acc = model.evaluate (test_image, test_labels)"
      ],
      "execution_count": null,
      "outputs": [
        {
          "output_type": "stream",
          "text": [
            "313/313 [==============================] - 1s 2ms/step - loss: 0.0744 - accuracy: 0.9815\n"
          ],
          "name": "stdout"
        }
      ]
    }
  ]
}