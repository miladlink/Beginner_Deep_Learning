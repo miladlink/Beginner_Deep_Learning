{
  "nbformat": 4,
  "nbformat_minor": 0,
  "metadata": {
    "colab": {
      "name": "Cats&DogsVGGnet.ipynb",
      "provenance": [],
      "collapsed_sections": [],
      "mount_file_id": "1d9eHb_0BXzzhXi5hkc-R3li95NWNwRJK",
      "authorship_tag": "ABX9TyPPlRurrnXSgwQ/KgMPUonB",
      "include_colab_link": true
    },
    "kernelspec": {
      "display_name": "Python 3",
      "name": "python3"
    },
    "language_info": {
      "name": "python"
    },
    "accelerator": "GPU"
  },
  "cells": [
    {
      "cell_type": "markdown",
      "metadata": {
        "id": "view-in-github",
        "colab_type": "text"
      },
      "source": [
        "<a href=\"https://colab.research.google.com/github/miladlink/Beginner_Deep_Learning/blob/main/Cats%26DogsVGGnet.ipynb\" target=\"_parent\"><img src=\"https://colab.research.google.com/assets/colab-badge.svg\" alt=\"Open In Colab\"/></a>"
      ]
    },
    {
      "cell_type": "code",
      "metadata": {
        "id": "4PBCeNvE5p_9"
      },
      "source": [
        "import os\n",
        "import numpy as np\n",
        "import matplotlib.pyplot as plt\n",
        "from keras.preprocessing import image\n",
        "from keras.preprocessing.image import ImageDataGenerator\n",
        "from keras.applications import VGG16\n",
        "from keras.models import Sequential\n",
        "from keras.layers import Conv2D, MaxPooling2D, Flatten, Dense"
      ],
      "execution_count": null,
      "outputs": []
    },
    {
      "cell_type": "code",
      "metadata": {
        "colab": {
          "base_uri": "https://localhost:8080/"
        },
        "id": "BH8kfj9W-9JE",
        "outputId": "e11f67d2-8804-4135-bd22-ea315cdba271"
      },
      "source": [
        "conv_base = VGG16 (weights = 'imagenet', include_top = False, input_shape = (150, 150, 3))"
      ],
      "execution_count": null,
      "outputs": [
        {
          "output_type": "stream",
          "text": [
            "Downloading data from https://storage.googleapis.com/tensorflow/keras-applications/vgg16/vgg16_weights_tf_dim_ordering_tf_kernels_notop.h5\n",
            "58892288/58889256 [==============================] - 1s 0us/step\n"
          ],
          "name": "stdout"
        }
      ]
    },
    {
      "cell_type": "code",
      "metadata": {
        "id": "QCAi-qMJ8BwV"
      },
      "source": [
        "base_dir = '/content/drive/MyDrive/cats_and_dogs_small'"
      ],
      "execution_count": null,
      "outputs": []
    },
    {
      "cell_type": "code",
      "metadata": {
        "id": "tNPnwqUg8pri"
      },
      "source": [
        "train_dir = os.path.join (base_dir, 'train') #train_dir = f'{base_dir}/train'\n",
        "valid_dir = os.path.join (base_dir, 'valid')\n",
        "test_dir = os.path.join (base_dir, 'test')"
      ],
      "execution_count": null,
      "outputs": []
    },
    {
      "cell_type": "code",
      "metadata": {
        "id": "9Y5fzSMp9TMI"
      },
      "source": [
        "datagen = ImageDataGenerator (rescale = 1. / 255)\n",
        "batch_size = 20"
      ],
      "execution_count": null,
      "outputs": []
    },
    {
      "cell_type": "markdown",
      "metadata": {
        "id": "KspRUfelNneN"
      },
      "source": [
        "1. Extract Features"
      ]
    },
    {
      "cell_type": "code",
      "metadata": {
        "id": "FwZxgsZt9lzr"
      },
      "source": [
        "def extract_features (directory, sample_count):\n",
        "   features = np.zeros (shape = (sample_count, 4, 4, 512))\n",
        "   labels = np.zeros (shape = (sample_count))\n",
        "   generator = datagen.flow_from_directory (directory, target_size = (150, 150), batch_size = batch_size, class_mode= 'binary')\n",
        "   i = 0\n",
        "   for input_batch, labels_batch in generator:\n",
        "      features_batch = conv_base.predict (input_batch)\n",
        "      features [i * batch_size: (i + 1) * batch_size] = features_batch\n",
        "      labels [i * batch_size: (i + 1) * batch_size] = labels_batch\n",
        "      i += 1\n",
        "      if i * batch_size >= sample_count:\n",
        "         break\n",
        "   return features, labels"
      ],
      "execution_count": null,
      "outputs": []
    },
    {
      "cell_type": "code",
      "metadata": {
        "colab": {
          "base_uri": "https://localhost:8080/"
        },
        "id": "vIjRia5zCmOA",
        "outputId": "e04bb575-d1f4-4993-a230-15d0fffad1f1"
      },
      "source": [
        "train_features, train_labels = extract_features (train_dir, 2000)\n",
        " \n",
        "valid_features, valid_labels = extract_features (valid_dir, 1000)"
      ],
      "execution_count": null,
      "outputs": [
        {
          "output_type": "stream",
          "text": [
            "Found 2000 images belonging to 2 classes.\n",
            "Found 1000 images belonging to 2 classes.\n"
          ],
          "name": "stdout"
        }
      ]
    },
    {
      "cell_type": "code",
      "metadata": {
        "id": "Fz2ysT1BPJ-I"
      },
      "source": [
        "train_features = np.reshape (train_features, (2000, 4 * 4 * 512))\n",
        "valid_features = np.reshape (valid_features, (1000, 4 * 4 * 512))"
      ],
      "execution_count": null,
      "outputs": []
    },
    {
      "cell_type": "code",
      "metadata": {
        "id": "ZyFpb7agKy3m"
      },
      "source": [
        "from keras.layers import Dropout\n",
        "from keras.optimizers import RMSprop"
      ],
      "execution_count": null,
      "outputs": []
    },
    {
      "cell_type": "code",
      "metadata": {
        "id": "fkEBqYK6K8Zl"
      },
      "source": [
        "model = Sequential ()\n",
        "model.add (Dense (256, activation = 'relu', input_dim = 4 * 4 * 512))\n",
        "model.add (Dropout (0.5))\n",
        "model.add (Dense (1, activation = 'sigmoid'))\n",
        "model.compile (loss = 'binary_crossentropy', optimizer = RMSprop (lr = 2e-5), metrics = ['acc'])"
      ],
      "execution_count": null,
      "outputs": []
    },
    {
      "cell_type": "code",
      "metadata": {
        "colab": {
          "base_uri": "https://localhost:8080/"
        },
        "id": "AsK9WJDWMq8-",
        "outputId": "8a2c4fed-f165-4dbe-af90-97a4c45114b9"
      },
      "source": [
        "history = model.fit (train_features, train_labels, epochs = 30, batch_size = 20, validation_data = (valid_features, valid_labels))"
      ],
      "execution_count": null,
      "outputs": [
        {
          "output_type": "stream",
          "text": [
            "Epoch 1/30\n",
            "100/100 [==============================] - 1s 5ms/step - loss: 0.6962 - acc: 0.6037 - val_loss: 0.4361 - val_acc: 0.8430\n",
            "Epoch 2/30\n",
            "100/100 [==============================] - 0s 4ms/step - loss: 0.4681 - acc: 0.7802 - val_loss: 0.3579 - val_acc: 0.8640\n",
            "Epoch 3/30\n",
            "100/100 [==============================] - 0s 4ms/step - loss: 0.3773 - acc: 0.8435 - val_loss: 0.3222 - val_acc: 0.8780\n",
            "Epoch 4/30\n",
            "100/100 [==============================] - 0s 4ms/step - loss: 0.3257 - acc: 0.8705 - val_loss: 0.2964 - val_acc: 0.8830\n",
            "Epoch 5/30\n",
            "100/100 [==============================] - 0s 4ms/step - loss: 0.2760 - acc: 0.8895 - val_loss: 0.2822 - val_acc: 0.8910\n",
            "Epoch 6/30\n",
            "100/100 [==============================] - 0s 4ms/step - loss: 0.2672 - acc: 0.8959 - val_loss: 0.2729 - val_acc: 0.8910\n",
            "Epoch 7/30\n",
            "100/100 [==============================] - 0s 4ms/step - loss: 0.2410 - acc: 0.9140 - val_loss: 0.2647 - val_acc: 0.8930\n",
            "Epoch 8/30\n",
            "100/100 [==============================] - 0s 4ms/step - loss: 0.2244 - acc: 0.9138 - val_loss: 0.2592 - val_acc: 0.8960\n",
            "Epoch 9/30\n",
            "100/100 [==============================] - 0s 4ms/step - loss: 0.2083 - acc: 0.9213 - val_loss: 0.2514 - val_acc: 0.8960\n",
            "Epoch 10/30\n",
            "100/100 [==============================] - 0s 4ms/step - loss: 0.2092 - acc: 0.9205 - val_loss: 0.2496 - val_acc: 0.8930\n",
            "Epoch 11/30\n",
            "100/100 [==============================] - 0s 4ms/step - loss: 0.2032 - acc: 0.9216 - val_loss: 0.2667 - val_acc: 0.8870\n",
            "Epoch 12/30\n",
            "100/100 [==============================] - 0s 4ms/step - loss: 0.1991 - acc: 0.9309 - val_loss: 0.2462 - val_acc: 0.8950\n",
            "Epoch 13/30\n",
            "100/100 [==============================] - 0s 4ms/step - loss: 0.1723 - acc: 0.9315 - val_loss: 0.2439 - val_acc: 0.8960\n",
            "Epoch 14/30\n",
            "100/100 [==============================] - 0s 4ms/step - loss: 0.1665 - acc: 0.9362 - val_loss: 0.2409 - val_acc: 0.8970\n",
            "Epoch 15/30\n",
            "100/100 [==============================] - 0s 4ms/step - loss: 0.1599 - acc: 0.9379 - val_loss: 0.2405 - val_acc: 0.9050\n",
            "Epoch 16/30\n",
            "100/100 [==============================] - 0s 4ms/step - loss: 0.1545 - acc: 0.9501 - val_loss: 0.2369 - val_acc: 0.9010\n",
            "Epoch 17/30\n",
            "100/100 [==============================] - 0s 4ms/step - loss: 0.1567 - acc: 0.9350 - val_loss: 0.2373 - val_acc: 0.9050\n",
            "Epoch 18/30\n",
            "100/100 [==============================] - 0s 4ms/step - loss: 0.1642 - acc: 0.9437 - val_loss: 0.2420 - val_acc: 0.9010\n",
            "Epoch 19/30\n",
            "100/100 [==============================] - 0s 4ms/step - loss: 0.1396 - acc: 0.9447 - val_loss: 0.2448 - val_acc: 0.8990\n",
            "Epoch 20/30\n",
            "100/100 [==============================] - 0s 4ms/step - loss: 0.1387 - acc: 0.9538 - val_loss: 0.2374 - val_acc: 0.9000\n",
            "Epoch 21/30\n",
            "100/100 [==============================] - 0s 4ms/step - loss: 0.1273 - acc: 0.9645 - val_loss: 0.2367 - val_acc: 0.9010\n",
            "Epoch 22/30\n",
            "100/100 [==============================] - 0s 4ms/step - loss: 0.1078 - acc: 0.9597 - val_loss: 0.2367 - val_acc: 0.9020\n",
            "Epoch 23/30\n",
            "100/100 [==============================] - 0s 4ms/step - loss: 0.1257 - acc: 0.9579 - val_loss: 0.2348 - val_acc: 0.9000\n",
            "Epoch 24/30\n",
            "100/100 [==============================] - 0s 4ms/step - loss: 0.1168 - acc: 0.9615 - val_loss: 0.2367 - val_acc: 0.9000\n",
            "Epoch 25/30\n",
            "100/100 [==============================] - 0s 4ms/step - loss: 0.1040 - acc: 0.9697 - val_loss: 0.2357 - val_acc: 0.8980\n",
            "Epoch 26/30\n",
            "100/100 [==============================] - 0s 4ms/step - loss: 0.0972 - acc: 0.9726 - val_loss: 0.2385 - val_acc: 0.8990\n",
            "Epoch 27/30\n",
            "100/100 [==============================] - 0s 4ms/step - loss: 0.1008 - acc: 0.9653 - val_loss: 0.2501 - val_acc: 0.9010\n",
            "Epoch 28/30\n",
            "100/100 [==============================] - 0s 4ms/step - loss: 0.0973 - acc: 0.9717 - val_loss: 0.2373 - val_acc: 0.9020\n",
            "Epoch 29/30\n",
            "100/100 [==============================] - 0s 4ms/step - loss: 0.0930 - acc: 0.9692 - val_loss: 0.2372 - val_acc: 0.8990\n",
            "Epoch 30/30\n",
            "100/100 [==============================] - 0s 4ms/step - loss: 0.0788 - acc: 0.9768 - val_loss: 0.2419 - val_acc: 0.8990\n"
          ],
          "name": "stdout"
        }
      ]
    },
    {
      "cell_type": "code",
      "metadata": {
        "id": "KT5a0vy-N3rz"
      },
      "source": [
        "model.save ('cats_and_dogs_small_3.h5')"
      ],
      "execution_count": null,
      "outputs": []
    },
    {
      "cell_type": "code",
      "metadata": {
        "id": "dQb0BNcUO1C_"
      },
      "source": [
        "acc = history.history ['acc']\n",
        "val_acc = history.history ['val_acc']\n",
        " \n",
        "loss = history.history ['loss']\n",
        "val_loss = history.history ['val_loss']\n",
        " \n",
        "epochs = range (1, len (acc) + 1)"
      ],
      "execution_count": null,
      "outputs": []
    },
    {
      "cell_type": "code",
      "metadata": {
        "colab": {
          "base_uri": "https://localhost:8080/",
          "height": 545
        },
        "id": "0C8aMpGrSfcZ",
        "outputId": "3c834d63-59a2-4e1e-c59d-e63360c99d00"
      },
      "source": [
        "plt.plot (epochs, acc, 'bo', label = 'Training acc')\n",
        "plt.plot (epochs, val_acc, 'b', label = 'Validation acc')\n",
        "plt.title ('Training and Validation Accuracy')\n",
        "plt.legend ()\n",
        "plt.figure ()\n",
        "plt.plot (epochs, loss, 'bo', label = 'Training loss')\n",
        "plt.plot (epochs, val_loss, 'b', label = 'Validation loss')\n",
        "plt.legend ()\n",
        "plt.title ('Training and Validation Loss')\n",
        "plt.show ()"
      ],
      "execution_count": null,
      "outputs": [
        {
          "output_type": "display_data",
          "data": {
            "image/png": "[encoded data removed]",
            "text/plain": [
              "<Figure size 432x288 with 1 Axes>"
            ]
          },
          "metadata": {
            "tags": [],
            "needs_background": "light"
          }
        },
        {
          "output_type": "display_data",
          "data": {
            "image/png": "[encoded data removed]",
            "text/plain": [
              "<Figure size 432x288 with 1 Axes>"
            ]
          },
          "metadata": {
            "tags": [],
            "needs_background": "light"
          }
        }
      ]
    },
    {
      "cell_type": "markdown",
      "metadata": {
        "id": "XTX_1evLT-Jz"
      },
      "source": [
        "2. Data Tuning (freaze and augmentation)"
      ]
    },
    {
      "cell_type": "code",
      "metadata": {
        "colab": {
          "base_uri": "https://localhost:8080/"
        },
        "id": "1yxpay0BUPsS",
        "outputId": "3f5cbe1c-e84b-43a9-fea1-bf3cf8507ef9"
      },
      "source": [
        "# data augmentation just for train\n",
        " \n",
        "train_datagen = ImageDataGenerator (rescale = 1. / 255, rotation_range = 40, width_shift_range = 0.2, height_shift_range = 0.2, shear_range = 0.2, zoom_range = 0.2, horizontal_flip = True, fill_mode = 'nearest')\n",
        "test_datagen = ImageDataGenerator (rescale = 1. / 255)\n",
        " \n",
        "train_generator = train_datagen.flow_from_directory (train_dir, target_size = (150, 150), batch_size = 20, class_mode = 'binary')\n",
        "valid_generator = test_datagen.flow_from_directory (valid_dir, target_size = (150, 150), batch_size = 20, class_mode = 'binary')"
      ],
      "execution_count": null,
      "outputs": [
        {
          "output_type": "stream",
          "text": [
            "Found 2000 images belonging to 2 classes.\n",
            "Found 1000 images belonging to 2 classes.\n"
          ],
          "name": "stdout"
        }
      ]
    },
    {
      "cell_type": "code",
      "metadata": {
        "id": "s573hRNcWr6f"
      },
      "source": [
        "model = Sequential ()\n",
        "model.add (conv_base)\n",
        "model.add (Flatten())\n",
        "model.add (Dense (256, activation = 'relu'))\n",
        "model.add (Dense (1, activation = 'sigmoid'))\n",
        "model.compile (loss = 'binary_crossentropy', optimizer = RMSprop (lr = 2e-5), metrics = ['acc'])"
      ],
      "execution_count": null,
      "outputs": []
    },
    {
      "cell_type": "code",
      "metadata": {
        "colab": {
          "base_uri": "https://localhost:8080/"
        },
        "id": "wUVh_oPuX96c",
        "outputId": "57d39695-553d-42c3-e9a7-e6d60013a534"
      },
      "source": [
        "len (model.trainable_weights)"
      ],
      "execution_count": null,
      "outputs": [
        {
          "output_type": "execute_result",
          "data": {
            "text/plain": [
              "30"
            ]
          },
          "metadata": {
            "tags": []
          },
          "execution_count": 30
        }
      ]
    },
    {
      "cell_type": "code",
      "metadata": {
        "colab": {
          "base_uri": "https://localhost:8080/"
        },
        "id": "gVBD9WKLYKts",
        "outputId": "2f503bb4-f1f1-4021-89c5-5e013cb530a5"
      },
      "source": [
        "conv_base.trainable = False\n",
        "len (model.trainable_weights)"
      ],
      "execution_count": null,
      "outputs": [
        {
          "output_type": "execute_result",
          "data": {
            "text/plain": [
              "4"
            ]
          },
          "metadata": {
            "tags": []
          },
          "execution_count": 31
        }
      ]
    },
    {
      "cell_type": "code",
      "metadata": {
        "colab": {
          "base_uri": "https://localhost:8080/"
        },
        "id": "oJD7sCvfYYbF",
        "outputId": "14ea73a7-8347-4ae0-bc35-d25fd6c77d07"
      },
      "source": [
        "history = model.fit (train_generator, steps_per_epoch = 66, epochs = 30, validation_data = valid_generator, validation_steps = 33)"
      ],
      "execution_count": null,
      "outputs": [
        {
          "output_type": "stream",
          "text": [
            "Epoch 1/30\n",
            "66/66 [==============================] - 21s 260ms/step - loss: 0.6055 - acc: 0.6399 - val_loss: 0.2249 - val_acc: 0.9061\n",
            "Epoch 2/30\n",
            "66/66 [==============================] - 17s 256ms/step - loss: 0.3089 - acc: 0.8797 - val_loss: 0.1849 - val_acc: 0.9182\n",
            "Epoch 3/30\n",
            "66/66 [==============================] - 17s 257ms/step - loss: 0.2827 - acc: 0.8860 - val_loss: 0.1785 - val_acc: 0.9258\n",
            "Epoch 4/30\n",
            "66/66 [==============================] - 17s 258ms/step - loss: 0.2143 - acc: 0.9177 - val_loss: 0.1010 - val_acc: 0.9591\n",
            "Epoch 5/30\n",
            "66/66 [==============================] - 17s 255ms/step - loss: 0.2015 - acc: 0.9163 - val_loss: 0.1608 - val_acc: 0.9242\n",
            "Epoch 6/30\n",
            "66/66 [==============================] - 17s 258ms/step - loss: 0.1856 - acc: 0.9180 - val_loss: 0.1944 - val_acc: 0.9333\n",
            "Epoch 7/30\n",
            "66/66 [==============================] - 17s 256ms/step - loss: 0.1790 - acc: 0.9300 - val_loss: 0.0933 - val_acc: 0.9561\n",
            "Epoch 8/30\n",
            "66/66 [==============================] - 17s 257ms/step - loss: 0.1320 - acc: 0.9446 - val_loss: 0.1501 - val_acc: 0.9333\n",
            "Epoch 9/30\n",
            "66/66 [==============================] - 17s 256ms/step - loss: 0.1234 - acc: 0.9533 - val_loss: 0.1665 - val_acc: 0.9470\n",
            "Epoch 10/30\n",
            "66/66 [==============================] - 17s 256ms/step - loss: 0.1300 - acc: 0.9479 - val_loss: 0.2531 - val_acc: 0.9212\n",
            "Epoch 11/30\n",
            "66/66 [==============================] - 17s 259ms/step - loss: 0.1315 - acc: 0.9470 - val_loss: 0.0821 - val_acc: 0.9712\n",
            "Epoch 12/30\n",
            "66/66 [==============================] - 17s 254ms/step - loss: 0.0852 - acc: 0.9642 - val_loss: 0.0928 - val_acc: 0.9682\n",
            "Epoch 13/30\n",
            "66/66 [==============================] - 17s 254ms/step - loss: 0.1109 - acc: 0.9631 - val_loss: 0.1037 - val_acc: 0.9515\n",
            "Epoch 14/30\n",
            "66/66 [==============================] - 17s 253ms/step - loss: 0.0927 - acc: 0.9606 - val_loss: 0.0934 - val_acc: 0.9727\n",
            "Epoch 15/30\n",
            "66/66 [==============================] - 17s 255ms/step - loss: 0.0693 - acc: 0.9720 - val_loss: 0.1040 - val_acc: 0.9652\n",
            "Epoch 16/30\n",
            "66/66 [==============================] - 17s 253ms/step - loss: 0.0757 - acc: 0.9697 - val_loss: 0.1338 - val_acc: 0.9470\n",
            "Epoch 17/30\n",
            "66/66 [==============================] - 17s 252ms/step - loss: 0.0654 - acc: 0.9766 - val_loss: 0.1026 - val_acc: 0.9621\n",
            "Epoch 18/30\n",
            "66/66 [==============================] - 17s 255ms/step - loss: 0.0927 - acc: 0.9617 - val_loss: 0.1703 - val_acc: 0.9530\n",
            "Epoch 19/30\n",
            "66/66 [==============================] - 17s 253ms/step - loss: 0.0670 - acc: 0.9803 - val_loss: 0.0718 - val_acc: 0.9758\n",
            "Epoch 20/30\n",
            "66/66 [==============================] - 17s 253ms/step - loss: 0.0616 - acc: 0.9791 - val_loss: 0.0922 - val_acc: 0.9667\n",
            "Epoch 21/30\n",
            "66/66 [==============================] - 17s 253ms/step - loss: 0.0609 - acc: 0.9750 - val_loss: 0.1145 - val_acc: 0.9712\n",
            "Epoch 22/30\n",
            "66/66 [==============================] - 17s 253ms/step - loss: 0.0561 - acc: 0.9812 - val_loss: 0.1127 - val_acc: 0.9606\n",
            "Epoch 23/30\n",
            "66/66 [==============================] - 17s 253ms/step - loss: 0.0352 - acc: 0.9904 - val_loss: 0.0854 - val_acc: 0.9682\n",
            "Epoch 24/30\n",
            "66/66 [==============================] - 17s 250ms/step - loss: 0.0480 - acc: 0.9832 - val_loss: 0.0735 - val_acc: 0.9636\n",
            "Epoch 25/30\n",
            "66/66 [==============================] - 17s 253ms/step - loss: 0.0579 - acc: 0.9771 - val_loss: 0.0932 - val_acc: 0.9621\n",
            "Epoch 26/30\n",
            "66/66 [==============================] - 17s 250ms/step - loss: 0.0441 - acc: 0.9827 - val_loss: 0.1687 - val_acc: 0.9636\n",
            "Epoch 27/30\n",
            "66/66 [==============================] - 17s 250ms/step - loss: 0.0684 - acc: 0.9767 - val_loss: 0.1114 - val_acc: 0.9742\n",
            "Epoch 28/30\n",
            "66/66 [==============================] - 16s 249ms/step - loss: 0.0437 - acc: 0.9866 - val_loss: 0.0498 - val_acc: 0.9818\n",
            "Epoch 29/30\n",
            "66/66 [==============================] - 17s 251ms/step - loss: 0.0541 - acc: 0.9721 - val_loss: 0.1330 - val_acc: 0.9712\n",
            "Epoch 30/30\n",
            "66/66 [==============================] - 17s 250ms/step - loss: 0.0411 - acc: 0.9853 - val_loss: 0.1698 - val_acc: 0.9515\n"
          ],
          "name": "stdout"
        }
      ]
    },
    {
      "cell_type": "code",
      "metadata": {
        "id": "mX1nLgnxabDQ"
      },
      "source": [
        "model.save ('cats_and_dogs_small_4.h5')"
      ],
      "execution_count": null,
      "outputs": []
    },
    {
      "cell_type": "code",
      "metadata": {
        "id": "e6K1PedSam54"
      },
      "source": [
        " acc = history.history ['acc']\n",
        "val_acc = history.history ['val_acc']\n",
        " \n",
        "loss = history.history ['loss']\n",
        "val_loss = history.history ['val_loss']\n",
        " \n",
        "epochs = range (1, len (acc) + 1)"
      ],
      "execution_count": null,
      "outputs": []
    },
    {
      "cell_type": "code",
      "metadata": {
        "colab": {
          "base_uri": "https://localhost:8080/",
          "height": 545
        },
        "id": "lKVpe-Gbaoqo",
        "outputId": "3cf4eea7-7a4e-4547-b290-d232cdf8715f"
      },
      "source": [
        " plt.plot (epochs, acc, 'bo', label = 'Training acc')\n",
        "plt.plot (epochs, val_acc, 'b', label = 'Validation acc')\n",
        "plt.title ('Training and Validation Accuracy')\n",
        "plt.legend ()\n",
        "plt.figure ()\n",
        "plt.plot (epochs, loss, 'bo', label = 'Training loss')\n",
        "plt.plot (epochs, val_loss, 'b', label = 'Validation loss')\n",
        "plt.legend ()\n",
        "plt.title ('Training and Validation Loss')\n",
        "plt.show ()"
      ],
      "execution_count": null,
      "outputs": [
        {
          "output_type": "display_data",
          "data": {
            "image/png": "[encoded data removed]",
            "text/plain": [
              "<Figure size 432x288 with 1 Axes>"
            ]
          },
          "metadata": {
            "tags": [],
            "needs_background": "light"
          }
        },
        {
          "output_type": "display_data",
          "data": {
            "image/png": "[encoded data removed]",
            "text/plain": [
              "<Figure size 432x288 with 1 Axes>"
            ]
          },
          "metadata": {
            "tags": [],
            "needs_background": "light"
          }
        }
      ]
    },
    {
      "cell_type": "markdown",
      "metadata": {
        "id": "kJX9ZdD6cTig"
      },
      "source": [
        "3. five tuning"
      ]
    },
    {
      "cell_type": "code",
      "metadata": {
        "id": "C_T2YBz-camF"
      },
      "source": [
        "# All previous acction repeated\n",
        " \n",
        "net = Sequential ()\n",
        "net.add (conv_base)\n",
        "net.add (Flatten ())\n",
        "net.add (Dense (256, activation = 'relu'))\n",
        "net.add (Dense (1, activation = 'sigmoid'))\n",
        "model.compile (loss ='binary_crossentropy', optimizer = RMSprop (lr = 1e-5), metrics = ['acc'])"
      ],
      "execution_count": null,
      "outputs": []
    },
    {
      "cell_type": "code",
      "metadata": {
        "id": "-WYwo1KPeNUg"
      },
      "source": [
        "conv_base.trainable = True\n",
        "set_trainable = False\n",
        "for layer in conv_base.layers:\n",
        "   if layer.name == 'block5_conv1':\n",
        "      set_trainable = True\n",
        "   if set_trainable:\n",
        "      layer.trainable = True\n",
        "   else:\n",
        "      layer.trainable = False"
      ],
      "execution_count": null,
      "outputs": []
    },
    {
      "cell_type": "code",
      "metadata": {
        "colab": {
          "base_uri": "https://localhost:8080/"
        },
        "id": "CiisQa-1fkz-",
        "outputId": "7f832e08-818f-4d97-9269-c35c8a1cab74"
      },
      "source": [
        "len (net.trainable_weights)"
      ],
      "execution_count": null,
      "outputs": [
        {
          "output_type": "execute_result",
          "data": {
            "text/plain": [
              "10"
            ]
          },
          "metadata": {
            "tags": []
          },
          "execution_count": 41
        }
      ]
    },
    {
      "cell_type": "code",
      "metadata": {
        "colab": {
          "base_uri": "https://localhost:8080/"
        },
        "id": "ZbBueo8hf08v",
        "outputId": "0e4640c4-eedb-462c-d099-c97c19fc4593"
      },
      "source": [
        " history = model.fit (train_generator, steps_per_epoch = 66, epochs = 30, validation_data = valid_generator, validation_steps = 33)"
      ],
      "execution_count": null,
      "outputs": [
        {
          "output_type": "stream",
          "text": [
            "Epoch 1/30\n",
            "66/66 [==============================] - 15s 221ms/step - loss: 0.0451 - acc: 0.9833 - val_loss: 0.1430 - val_acc: 0.9652\n",
            "Epoch 2/30\n",
            "66/66 [==============================] - 14s 216ms/step - loss: 0.0284 - acc: 0.9932 - val_loss: 0.0988 - val_acc: 0.9652\n",
            "Epoch 3/30\n",
            "66/66 [==============================] - 14s 214ms/step - loss: 0.0367 - acc: 0.9866 - val_loss: 0.1457 - val_acc: 0.9621\n",
            "Epoch 4/30\n",
            "66/66 [==============================] - 14s 215ms/step - loss: 0.0329 - acc: 0.9925 - val_loss: 0.1177 - val_acc: 0.9712\n",
            "Epoch 5/30\n",
            "66/66 [==============================] - 14s 216ms/step - loss: 0.0305 - acc: 0.9906 - val_loss: 0.1208 - val_acc: 0.9652\n",
            "Epoch 6/30\n",
            "66/66 [==============================] - 14s 213ms/step - loss: 0.0255 - acc: 0.9872 - val_loss: 0.0928 - val_acc: 0.9697\n",
            "Epoch 7/30\n",
            "66/66 [==============================] - 14s 213ms/step - loss: 0.0166 - acc: 0.9957 - val_loss: 0.1368 - val_acc: 0.9606\n",
            "Epoch 8/30\n",
            "66/66 [==============================] - 14s 214ms/step - loss: 0.0190 - acc: 0.9938 - val_loss: 0.1415 - val_acc: 0.9576\n",
            "Epoch 9/30\n",
            "66/66 [==============================] - 14s 213ms/step - loss: 0.0166 - acc: 0.9959 - val_loss: 0.1302 - val_acc: 0.9652\n",
            "Epoch 10/30\n",
            "66/66 [==============================] - 14s 214ms/step - loss: 0.0229 - acc: 0.9932 - val_loss: 0.1211 - val_acc: 0.9652\n",
            "Epoch 11/30\n",
            "66/66 [==============================] - 14s 215ms/step - loss: 0.0213 - acc: 0.9922 - val_loss: 0.1477 - val_acc: 0.9712\n",
            "Epoch 12/30\n",
            "66/66 [==============================] - 14s 213ms/step - loss: 0.0184 - acc: 0.9921 - val_loss: 0.1173 - val_acc: 0.9727\n",
            "Epoch 13/30\n",
            "66/66 [==============================] - 14s 213ms/step - loss: 0.0153 - acc: 0.9955 - val_loss: 0.1689 - val_acc: 0.9636\n",
            "Epoch 14/30\n",
            "66/66 [==============================] - 14s 212ms/step - loss: 0.0329 - acc: 0.9848 - val_loss: 0.1493 - val_acc: 0.9652\n",
            "Epoch 15/30\n",
            "66/66 [==============================] - 14s 212ms/step - loss: 0.0250 - acc: 0.9895 - val_loss: 0.1211 - val_acc: 0.9621\n",
            "Epoch 16/30\n",
            "66/66 [==============================] - 14s 212ms/step - loss: 0.0213 - acc: 0.9937 - val_loss: 0.1113 - val_acc: 0.9697\n",
            "Epoch 17/30\n",
            "66/66 [==============================] - 14s 211ms/step - loss: 0.0166 - acc: 0.9926 - val_loss: 0.0716 - val_acc: 0.9758\n",
            "Epoch 18/30\n",
            "66/66 [==============================] - 14s 211ms/step - loss: 0.0199 - acc: 0.9933 - val_loss: 0.1432 - val_acc: 0.9591\n",
            "Epoch 19/30\n",
            "66/66 [==============================] - 14s 209ms/step - loss: 0.0208 - acc: 0.9945 - val_loss: 0.0842 - val_acc: 0.9758\n",
            "Epoch 20/30\n",
            "66/66 [==============================] - 14s 214ms/step - loss: 0.0165 - acc: 0.9941 - val_loss: 0.1125 - val_acc: 0.9697\n",
            "Epoch 21/30\n",
            "66/66 [==============================] - 14s 211ms/step - loss: 0.0112 - acc: 0.9964 - val_loss: 0.1451 - val_acc: 0.9652\n",
            "Epoch 22/30\n",
            "66/66 [==============================] - 14s 211ms/step - loss: 0.0259 - acc: 0.9895 - val_loss: 0.1013 - val_acc: 0.9667\n",
            "Epoch 23/30\n",
            "66/66 [==============================] - 14s 215ms/step - loss: 0.0289 - acc: 0.9906 - val_loss: 0.1288 - val_acc: 0.9652\n",
            "Epoch 24/30\n",
            "66/66 [==============================] - 14s 214ms/step - loss: 0.0274 - acc: 0.9935 - val_loss: 0.1532 - val_acc: 0.9667\n",
            "Epoch 25/30\n",
            "66/66 [==============================] - 14s 219ms/step - loss: 0.0179 - acc: 0.9941 - val_loss: 0.1594 - val_acc: 0.9606\n",
            "Epoch 26/30\n",
            "66/66 [==============================] - 15s 220ms/step - loss: 0.0212 - acc: 0.9930 - val_loss: 0.1199 - val_acc: 0.9682\n",
            "Epoch 27/30\n",
            "66/66 [==============================] - 15s 226ms/step - loss: 0.0170 - acc: 0.9925 - val_loss: 0.1462 - val_acc: 0.9697\n",
            "Epoch 28/30\n",
            "66/66 [==============================] - 15s 222ms/step - loss: 0.0426 - acc: 0.9898 - val_loss: 0.1299 - val_acc: 0.9712\n",
            "Epoch 29/30\n",
            "66/66 [==============================] - 14s 214ms/step - loss: 0.0102 - acc: 0.9988 - val_loss: 0.1138 - val_acc: 0.9727\n",
            "Epoch 30/30\n",
            "66/66 [==============================] - 14s 213ms/step - loss: 0.0199 - acc: 0.9924 - val_loss: 0.1544 - val_acc: 0.9652\n"
          ],
          "name": "stdout"
        }
      ]
    },
    {
      "cell_type": "code",
      "metadata": {
        "id": "TTfOZ7ZrhuT2"
      },
      "source": [
        "model.save ('cats_and_dogs_small_5.h5')"
      ],
      "execution_count": null,
      "outputs": []
    },
    {
      "cell_type": "code",
      "metadata": {
        "id": "u77ylHk5h_VZ"
      },
      "source": [
        " acc = history.history ['acc']\n",
        "val_acc = history.history ['val_acc']\n",
        " \n",
        "loss = history.history ['loss']\n",
        "val_loss = history.history ['val_loss']\n",
        " \n",
        "epochs = range (1, len (acc) + 1)"
      ],
      "execution_count": null,
      "outputs": []
    },
    {
      "cell_type": "code",
      "metadata": {
        "colab": {
          "base_uri": "https://localhost:8080/",
          "height": 545
        },
        "id": "YsBJjUR4iIBa",
        "outputId": "1b8db06d-14a8-4221-9c15-aaf45913f175"
      },
      "source": [
        " plt.plot (epochs, acc, 'bo', label = 'Training acc')\n",
        "plt.plot (epochs, val_acc, 'b', label = 'Validation acc')\n",
        "plt.title ('Training and Validation Accuracy')\n",
        "plt.legend ()\n",
        "plt.figure ()\n",
        "plt.plot (epochs, loss, 'bo', label = 'Training loss')\n",
        "plt.plot (epochs, val_loss, 'b', label = 'Validation loss')\n",
        "plt.legend ()\n",
        "plt.title ('Training and Validation Loss')\n",
        "plt.show ()"
      ],
      "execution_count": null,
      "outputs": [
        {
          "output_type": "display_data",
          "data": {
            "image/png": "[encoded data removed]",
            "text/plain": [
              "<Figure size 432x288 with 1 Axes>"
            ]
          },
          "metadata": {
            "tags": [],
            "needs_background": "light"
          }
        },
        {
          "output_type": "display_data",
          "data": {
            "image/png": "[encoded data removed]",
            "text/plain": [
              "<Figure size 432x288 with 1 Axes>"
            ]
          },
          "metadata": {
            "tags": [],
            "needs_background": "light"
          }
        }
      ]
    }
  ]
}